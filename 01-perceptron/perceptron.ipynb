{
  "nbformat": 4,
  "nbformat_minor": 0,
  "metadata": {
    "colab": {
      "provenance": []
    },
    "kernelspec": {
      "name": "python3",
      "display_name": "Python 3"
    },
    "language_info": {
      "name": "python"
    }
  },
  "cells": [
    {
      "cell_type": "markdown",
      "source": [
        "![perceptron](https://matt.might.net/images/blog/midjourney-glowing-blue-neural-network-small.png)"
      ],
      "metadata": {
        "id": "GPnSZ0bDnbqB"
      }
    },
    {
      "cell_type": "code",
      "execution_count": null,
      "metadata": {
        "id": "0WnoCIz2pzB_"
      },
      "outputs": [],
      "source": [
        "import numpy as np\n",
        "import matplotlib.pyplot as plt\n",
        "import seaborn as sns"
      ]
    },
    {
      "cell_type": "markdown",
      "source": [
        "Notes for Introduction to Machine Learning:\n",
        "Jade Choghari\n",
        "We will start with the most basic yet fundemantal concept in ML"
      ],
      "metadata": {
        "id": "Ypa5jLogp4mo"
      }
    },
    {
      "cell_type": "markdown",
      "source": [
        "Perceptron was inspired by neuroscience. It was the first machine learning tool, that could learn and output something inspired by neuroscience.\n",
        "Just as neurons transmit signals in the brain, perceptrons process input signals, weigh them, and produce outputs that form the basis of AI decision-making. This concept, introduced by Frank Rosenblatt in the 1950s, revolutionized the way machines mimic cognitive functions."
      ],
      "metadata": {
        "id": "z4532TKyqns7"
      }
    },
    {
      "cell_type": "code",
      "source": [],
      "metadata": {
        "id": "ka8tJN_PrPcT"
      },
      "execution_count": null,
      "outputs": []
    },
    {
      "cell_type": "markdown",
      "source": [
        "# **What a Dataset always looks like:**"
      ],
      "metadata": {
        "id": "4KOHcni2rOaN"
      }
    },
    {
      "cell_type": "markdown",
      "source": [
        "## What a Dataset Looks Like\n",
        "\n",
        "A dataset is always denoted as $\\mathbf{X}$, and could be thought of as a big matrix.\n",
        "\n",
        "$\n",
        "\\mathbf{X} = \\begin{pmatrix}\n",
        "\\mathbf{x}_1 & \\mathbf{x}_2 & \\mathbf{x}_3 & \\cdots & \\mathbf{x}_n\n",
        "\\end{pmatrix}\n",
        "$\n",
        "\n",
        "Each $\\mathbf{x}_i$ is a vector, and that vector is called a datapoint, one point of the data. Each datapoint is $d$-dimensional, which means each data point contains $d$ elements.\n",
        "\n",
        "$\n",
        "\\mathbf{X} = \\begin{pmatrix}\n",
        "x_{11} & x_{12} & x_{13} & \\cdots & x_{1n} \\\\\n",
        "x_{21} & x_{22} & x_{23} & \\cdots & x_{2n} \\\\\n",
        "\\vdots & \\vdots & \\vdots & \\ddots & \\vdots \\\\\n",
        "x_{d1} & x_{d2} & x_{d3} & \\cdots & x_{dn}\n",
        "\\end{pmatrix}\n",
        "$\n",
        "\n",
        "A matrix of a dataset is $n \\times d$ (or sometimes $d \\times n$), which means each row is a data point, and we have $d$ columns for the features.\n",
        "\n",
        "You may ask, what is a feature? We will give an example:\n"
      ],
      "metadata": {
        "id": "ETdObcLcrVri"
      }
    },
    {
      "cell_type": "code",
      "source": [
        "import numpy as np\n",
        "import matplotlib.pyplot as plt\n",
        "\n",
        "# Sample dataset\n",
        "X = np.array([\n",
        "    [0, 1, 0, 1, 1], ## data number 1, and each point inside [0, 1, 0, 1, 1] is a feature of the datapoint, we have here 6 features\n",
        "    [0, 0, 1, 1, 0], ## data number 2\n",
        "    [1, 0, 1, 0, 1] ## data number 3\n",
        "])\n",
        "\n",
        "# Corresponding labels\n",
        "y = np.array(['+', '+', '-']) ## each one have a correspondi\n",
        "\n",
        "# Test samples\n",
        "x_test = np.array([1, 1])\n",
        "x_prime_test = np.array([0.9, 1.1])\n",
        "\n",
        "# Plot the dataset - most people are free to ignore the plotting code below\n",
        "plt.figure(figsize=(10, 6))\n",
        "plt.imshow(X, cmap='coolwarm', aspect='auto')\n",
        "\n",
        "# Annotate the plot\n",
        "for i in range(len(y)):\n",
        "    plt.text(X.shape[1], i, y[i], horizontalalignment='center', verticalalignment='center')\n",
        "\n",
        "plt.text(X.shape[1], len(y), '?', horizontalalignment='center', verticalalignment='center', color='red')\n",
        "plt.text(X.shape[1] + 1, len(y), '?!', horizontalalignment='center', verticalalignment='center', color='red')\n",
        "\n",
        "plt.title('Dataset Matrix Visualization')\n",
        "plt.xlabel('Features')\n",
        "plt.ylabel('Datapoints')\n",
        "plt.show()\n"
      ],
      "metadata": {
        "colab": {
          "base_uri": "https://localhost:8080/",
          "height": 605
        },
        "id": "hXrPsATqp7N5",
        "outputId": "fe193f50-7bf1-4869-86ee-a6973edf5782"
      },
      "execution_count": null,
      "outputs": [
        {
          "output_type": "display_data",
          "data": {
            "text/plain": [
              "<Figure size 1000x600 with 1 Axes>"
            ],
            "image/png": "[encoded data removed]"
          },
          "metadata": {}
        }
      ]
    },
    {
      "cell_type": "markdown",
      "source": [
        "Each row is a datapoint, and each datapoint contains a corresponding label: '+' or '-'\n",
        "\n",
        "$\\textcolor{red}{\\boldsymbol{\\cdot}}$: means -1 and $\\textcolor{blue}{\\boldsymbol{\\cdot}}$: means +1;\n",
        "\n",
        "For example, in a spam classification, we may have some features $d$. In this case, we have 5 features:\n",
        "- $d1$: Number of words > 250 (True output 1, False output 0)\n",
        "- $d2$: Number of spam words > 250\n",
        "- $d3$: The phrase starts with a capital (T or F)\n",
        "- $d4$: Mail contains suspicious links (T/F)\n",
        "- $d5$: Recipient is not in receiver contacts ($\\textcolor{blue}{\\boldsymbol{+1}}$/$\\textcolor{red}{\\boldsymbol{-1}}$)\n",
        "\n",
        "Training set: $\\mathbf{X}$ in $n \\times d$, and labels $y = \\{+1, -1\\}$\n",
        "\n",
        "### Batch learning\n",
        "- Interested in performance on test set $\\mathbf{X'}$\n",
        "- Training set ($\\mathbf{X}, y$) is just a means\n",
        "- Statistical assumption on $\\mathbf{X}$ and $\\mathbf{X'}$\n",
        "\n",
        "### Online learning\n",
        "- Data comes one by one (streaming)\n",
        "- Need to predict $y$ before knowing its true value\n",
        "- Interested in making as few mistakes as possible\n",
        "\n",
        "### Binary Classification Problem\n",
        "We have Dataset $\\mathbf{X}$ in $n \\times d$, we need to learn a binary classification rule so that given $\\mathbf{x}$, we get,\n",
        "$h(\\mathbf{x}) = y$\n",
        "\n",
        "How could we learn or create such functions $h$? We will use some linear algebra and weights to tackle this. Memorization works or it doesn't? We do not want our model to memorize this data after all.\n",
        "\n",
        "The challenge of binary classification lies in two aspects:\n",
        "- On a test example $(\\mathbf{x}, y)$, we actually only have access to $\\mathbf{x}$ but not the label $y$. It is our job to predict $y$, hopefully correctly most of the time.\n",
        "- The test example $\\mathbf{x}$ can be (very) different from any of the training examples $\\{\\mathbf{x}_i : i = 1, \\ldots, n\\}$. So we cannot expect naive memorization to work.\n",
        "\n",
        "Essentially, we need a (principled?) way to interpolate from the training set (where labels are known) and hopefully generalize to the test set (where labels need to be predicted). For this to be possible, we need:\n",
        "- The training set to be “indicative” of what the test set looks like, and/or\n",
        "- A proper baseline (competitor) to compare against.\n",
        "\n",
        "We will use the concept of a game, or even life in general. What makes us grow and learn? In a game, what do we do before winning? Mistakes! Exactly.\n",
        "\n",
        "Repeat the following game:\n",
        "- Observe instance $\\mathbf{x}_i$ (one data point)\n",
        "- Predict its label $\\hat{y}_i$ (in whatever way you like)\n",
        "- Reveal the true label $y_i$\n",
        "- Suffer a mistake if $\\hat{y}_i \\ne y_i$\n",
        "\n",
        "How many mistakes in the worst-case? (We need to minimize it)\n",
        "\n",
        "Predict first, reveal next: no peeking into the future.\n"
      ],
      "metadata": {
        "id": "W-8cRDHjwqyE"
      }
    },
    {
      "cell_type": "markdown",
      "source": [
        "The algorithm: ![alt text](https://i.sstatic.net/4c4Bs.png)\n"
      ],
      "metadata": {
        "id": "hWi2aXblg1mn"
      }
    },
    {
      "cell_type": "markdown",
      "source": [
        "if w.x = 0, some people consider it a mistake, some no, it depends on the context"
      ],
      "metadata": {
        "id": "MowBL1JSg8W4"
      }
    },
    {
      "cell_type": "markdown",
      "source": [
        "Padding:\n",
        "We sometimes augment the data to include one additional dimension which leaves room for a bias:\n",
        "\n",
        "x = (x 1) and w = (w b)\n"
      ],
      "metadata": {
        "id": "M5fk5-mchZs8"
      }
    },
    {
      "cell_type": "markdown",
      "source": [
        "The perceptron algorithm is a perfect illustration of the good old wisdom: “If it ain’t broke, don’t fix it.”\n",
        "Indeed, it maintains the same weight vector (w, b) until when a “mistake” happens, i.e., line 3 in Line 5.\n",
        "This principle is often used in designing machine learning algorithms, or in life . :)"
      ],
      "metadata": {
        "id": "_7X4O8TBh7Nd"
      }
    },
    {
      "cell_type": "markdown",
      "source": [
        "I recommend (optional). trying to proove this useful and fundematnal theorem: Perceptron Convergence Theorem"
      ],
      "metadata": {
        "id": "nr3J6EZgiNIR"
      }
    },
    {
      "cell_type": "markdown",
      "source": [
        "The perceptron algo don't output a unique w,b , your friend could be running the same algorithm and have a different answer, they do not care. A unique w, b will be talken in SVMs (next chapter)"
      ],
      "metadata": {
        "id": "rgtDEAbkilfk"
      }
    },
    {
      "cell_type": "code",
      "source": [],
      "metadata": {
        "id": "ROjl74v3g79o"
      },
      "execution_count": null,
      "outputs": []
    },
    {
      "cell_type": "markdown",
      "source": [
        "Example/Exercise:"
      ],
      "metadata": {
        "id": "ks58zETpjUvy"
      }
    },
    {
      "cell_type": "code",
      "source": [
        "import pandas as pd\n",
        "import numpy as np\n",
        "import numba as nb\n",
        "import matplotlib.pyplot as plt\n",
        "from numba import njit"
      ],
      "metadata": {
        "id": "YK_pujY0guiw"
      },
      "execution_count": null,
      "outputs": []
    },
    {
      "cell_type": "code",
      "source": [
        "# we will be working with the following dataset:\n",
        "df_X = pd.read_csv('https://cs.uwaterloo.ca/~y328yu/mycourses/480/datasets/spambase_X.csv')\n",
        "df_Y = pd.read_csv('https://cs.uwaterloo.ca/~y328yu/mycourses/480/datasets/spambase_y.csv')"
      ],
      "metadata": {
        "id": "BtAYip54jiNC"
      },
      "execution_count": null,
      "outputs": []
    },
    {
      "cell_type": "markdown",
      "source": [
        "When working wiht a dataset, it is very importnat to know the dimension/shape, n x d, or someitimes transposed d x n"
      ],
      "metadata": {
        "id": "34q8LT0yjuhi"
      }
    },
    {
      "cell_type": "code",
      "source": [
        "print(df_X.shape)\n",
        "print(df_Y.shape)"
      ],
      "metadata": {
        "colab": {
          "base_uri": "https://localhost:8080/"
        },
        "id": "e9EkJTb_jraR",
        "outputId": "95b2bab2-522c-4f76-f4b2-2afb3cc75330"
      },
      "execution_count": null,
      "outputs": [
        {
          "output_type": "stream",
          "name": "stdout",
          "text": [
            "(56, 4601)\n",
            "(4600, 1)\n"
          ]
        }
      ]
    },
    {
      "cell_type": "markdown",
      "source": [
        "It seems the matrix is transposed: each column is nowb a datapoint and each row is a vector. But that's okay, if you feel more comfortable with the n x d (me too), you can just transpose the matrix .T"
      ],
      "metadata": {
        "id": "5GuDoUJ0j8gD"
      }
    },
    {
      "cell_type": "code",
      "source": [
        "# Data dimension dont match\n",
        "# Ensure data dimensions match\n",
        "# we often do it in industry, extra checkpoint\n",
        "if df_X.shape[1] != df_Y.shape[0]:\n",
        "    df_X = df_X.iloc[:, :df_Y.shape[0]]"
      ],
      "metadata": {
        "id": "0bBFDLvNj65B"
      },
      "execution_count": null,
      "outputs": []
    },
    {
      "cell_type": "code",
      "source": [
        "# numpy allows for faster computation, let's\n",
        "# Convert DataFrame to numpy arrays\n",
        "X = df_X.to_numpy()\n",
        "y = df_Y.to_numpy().flatten()\n"
      ],
      "metadata": {
        "id": "0SQsq4y0kPaW"
      },
      "execution_count": null,
      "outputs": []
    },
    {
      "cell_type": "code",
      "source": [
        "# main algorithm as discussed in this chapter with plotting\n",
        "# concatinate\n",
        "# xi will be sperable\n",
        "def perceptron(X, y, max_pass=500, d_second=False):\n",
        "    # Initialize parameters\n",
        "    if d_second:\n",
        "      w = np.zeros(X.shape[1])\n",
        "      b = 0\n",
        "    else:\n",
        "      w = np.zeros(X.shape[0])\n",
        "\n",
        "    b = 0\n",
        "    mistakes = []\n",
        "\n",
        "    # Run the perceptron algorithm\n",
        "    for t in range(max_pass):\n",
        "        mistake_t = 0\n",
        "\n",
        "        for i in range(X.shape[1]):\n",
        "            if y[i] * (np.dot(w, X[:, i]) + b) <= 0:\n",
        "                w = w + y[i] * X[:, i]\n",
        "                b = b + y[i]\n",
        "                mistake_t += 1\n",
        "        mistakes.append(mistake_t)\n",
        "    return w, b, mistakes\n",
        "\n",
        "def plot_mistakes(mistakes):\n",
        "    plt.figure(figsize=(10, 6))\n",
        "    plt.plot(range(1, len(mistakes) + 1), mistakes, marker='o')\n",
        "    plt.xlabel('Number of Passes')\n",
        "    plt.ylabel('Number of Mistakes')\n",
        "    plt.title('Number of Mistakes vs. Number of Passes')\n",
        "    plt.grid(True)\n",
        "    plt.show()\n",
        "\n",
        "# Run the perceptron algorithm\n",
        "w, b, mistakes = perceptron(X, y)\n",
        "\n",
        "# Plot the number of mistakes\n",
        "plot_mistakes(mistakes)"
      ],
      "metadata": {
        "colab": {
          "base_uri": "https://localhost:8080/",
          "height": 564
        },
        "id": "rvxISJdakZk8",
        "outputId": "99972bb4-0138-488d-8b18-9ef793c2efa5"
      },
      "execution_count": null,
      "outputs": [
        {
          "output_type": "display_data",
          "data": {
            "text/plain": [
              "<Figure size 1000x600 with 1 Axes>"
            ],
            "image/png": "[encoded data removed]"
          },
          "metadata": {}
        }
      ]
    },
    {
      "cell_type": "markdown",
      "source": [
        "This means two things: 1- There is a bug in the algorithm , 2- Dataset is not linearly seperable, could you know which one is it and why?"
      ],
      "metadata": {
        "id": "PybdxR9Gkm1s"
      }
    },
    {
      "cell_type": "markdown",
      "source": [],
      "metadata": {
        "id": "v0QGpXcmk5S6"
      }
    },
    {
      "cell_type": "markdown",
      "source": [
        "Let's implement a one-vs-all reduction multiclass perceptron"
      ],
      "metadata": {
        "id": "9hzcNl-Kk5Vj"
      }
    },
    {
      "cell_type": "code",
      "source": [
        "activity_X_url = 'https://cs.uwaterloo.ca/~y328yu/mycourses/480/datasets/activity_X_train.txt'\n",
        "activity_y_url = 'https://cs.uwaterloo.ca/~y328yu/mycourses/480/datasets/activity_y_train.txt'\n",
        "activity_X_test_url = 'https://cs.uwaterloo.ca/~y328yu/mycourses/480/datasets/activity_X_test.txt'\n",
        "activity_y_test_url = 'https://cs.uwaterloo.ca/~y328yu/mycourses/480/datasets/activity_y_test.txt'\n",
        "X_train = pd.read_csv(activity_X_url, delim_whitespace=True, header=None)\n",
        "y_train = pd.read_csv(activity_y_url, header=None)\n",
        "X_test = pd.read_csv(activity_X_test_url, delim_whitespace=True, header=None)\n",
        "y_test = pd.read_csv(activity_y_test_url, header=None)\n"
      ],
      "metadata": {
        "id": "NS3JvRTUkgWI"
      },
      "execution_count": null,
      "outputs": []
    },
    {
      "cell_type": "code",
      "source": [
        "# we are dealing with the following dataset X\n",
        "data = np.loadtxt(activity_X_url)\n",
        "data"
      ],
      "metadata": {
        "colab": {
          "base_uri": "https://localhost:8080/"
        },
        "id": "NVG7qayQlFpM",
        "outputId": "7381cc23-0b51-4033-b406-e79db640b501"
      },
      "execution_count": null,
      "outputs": [
        {
          "output_type": "execute_result",
          "data": {
            "text/plain": [
              "array([[ 0.28858451, -0.02029417, -0.13290514, ..., -0.84124676,\n",
              "         0.17994061, -0.05862692],\n",
              "       [ 0.27841883, -0.01641057, -0.12352019, ..., -0.8447876 ,\n",
              "         0.18028889, -0.05431672],\n",
              "       [ 0.27965306, -0.01946716, -0.11346169, ..., -0.84893347,\n",
              "         0.18063731, -0.04911782],\n",
              "       ...,\n",
              "       [ 0.27338737, -0.01701062, -0.04502183, ..., -0.77913261,\n",
              "         0.24914484,  0.04081119],\n",
              "       [ 0.28965416, -0.01884304, -0.15828059, ..., -0.78518142,\n",
              "         0.24643223,  0.02533948],\n",
              "       [ 0.35150347, -0.01242312, -0.20386717, ..., -0.78326693,\n",
              "         0.24680852,  0.03669484]])"
            ]
          },
          "metadata": {},
          "execution_count": 10
        }
      ]
    },
    {
      "cell_type": "code",
      "source": [
        "# the shapes, remeber n x d or d x n, let's see:\n",
        "print(X_train.shape)\n",
        "print(y_train.shape)\n",
        "print(X_test.shape)\n",
        "print(y_test.shape)"
      ],
      "metadata": {
        "colab": {
          "base_uri": "https://localhost:8080/"
        },
        "id": "XuzVtcG_lK2T",
        "outputId": "50f13e42-bdc8-435b-ce3c-e3af6e0c7ad9"
      },
      "execution_count": null,
      "outputs": [
        {
          "output_type": "stream",
          "name": "stdout",
          "text": [
            "(7352, 561)\n",
            "(7352, 1)\n",
            "(2947, 561)\n",
            "(2947, 1)\n"
          ]
        }
      ]
    },
    {
      "cell_type": "code",
      "source": [
        "# This is how we will proceed:"
      ],
      "metadata": {
        "id": "VyRZy7R9lQK2"
      },
      "execution_count": null,
      "outputs": []
    },
    {
      "cell_type": "markdown",
      "source": [
        "Steps: Train a separate binary classifier for each class: For a dataset with k classes, train k binary classifiers.\n",
        "\n",
        "Each classifier Ci will be trained to distinguish the samples of class i from the samples of all other classes.\n",
        "\n",
        "Make predictions: For a given input, each binary classifier will output a score. The class with the highest score will be the final prediction.\n",
        "![alt text](https://courses.cs.washington.edu/courses/cse415/21sp/assign/a6/1vsAll.png)\n",
        "\n",
        "\n"
      ],
      "metadata": {
        "id": "dSSPIdlAlYFN"
      }
    },
    {
      "cell_type": "code",
      "source": [
        "def perceptron(X, y, max_pass):\n",
        "    num_features = X.shape[1]\n",
        "    num_dp = X.shape[0]\n",
        "    w = np.zeros(num_features)\n",
        "    b = 0\n",
        "\n",
        "    for _ in range(max_pass):\n",
        "        for i in range(num_dp):\n",
        "            x_i = X[i, :]\n",
        "            y_i = y[i]\n",
        "            w_dot_xi = np.dot(w, x_i)\n",
        "            if (y_i * (w_dot_xi + b)) <= 0:\n",
        "                w += (x_i * y_i)\n",
        "                b += y_i\n",
        "\n",
        "    return w, b\n",
        "# Multiclass perceptron training function using one-vs-all\n",
        "def multiclass_perceptron_training(X, y, num_classes, max_pass):\n",
        "    n, d = X.shape\n",
        "    # we can add debugging, that was mine so i will leave it\n",
        "    # if n != 7352 and d != 561:\n",
        "    #   print(\"Size error\")\n",
        "    #   print(n, d)\n",
        "    #   raise SystemExit\n",
        "\n",
        "    # initialize weights and biases for each class\n",
        "    weights = np.zeros((num_classes, d))\n",
        "    biases = np.zeros(num_classes)\n",
        "\n",
        "    for class_idx in range(num_classes):\n",
        "        # create binary labels for the current class (1 for the current class, -1 for all others)\n",
        "        # as we said in the notes go back to one vs all explanation if you're lost\n",
        "        binary_labels = np.where(y == class_idx, 1, -1) # setting the class (one) to 1, vs all (else must be 0) this is the method\n",
        "        binary_labels_flat = binary_labels.flatten()\n",
        "\n",
        "        # train binary perceptron for the current class\n",
        "        w, b = perceptron(X, binary_labels_flat, max_pass)\n",
        "        if False:\n",
        "          print('Shape of X is ', X.shape)\n",
        "          print(\"shape of weights is :\", weights[class_idx, :].shape)\n",
        "          print(\"shape of w is\", w.shape)\n",
        "          print(\"shape of b is\", b.shape)\n",
        "          raise SystemExit\n",
        "        weights[class_idx, :] = w\n",
        "        biases[class_idx] = b\n",
        "\n",
        "    return weights, biases\n",
        "\n",
        "# predict function\n",
        "def multiclass_perceptron_predict(X, weights, biases):\n",
        "    num_classes = weights.shape[0]\n",
        "    n = X.shape[0]\n",
        "\n",
        "    # initialize an array to store scores for each class\n",
        "    scores = np.zeros((num_classes, n))\n",
        "\n",
        "    for class_idx in range(num_classes):\n",
        "        scores[class_idx, :] = np.dot(X, weights[class_idx, :]) + biases[class_idx]\n",
        "\n",
        "    # predict the class with the highest score\n",
        "    predictions = np.argmax(scores, axis=0)\n",
        "\n",
        "    return predictions"
      ],
      "metadata": {
        "id": "_OFUDCMDlW_7"
      },
      "execution_count": null,
      "outputs": []
    },
    {
      "cell_type": "code",
      "source": [
        "# if you're lost wiht the np.where thing, this is how it works\n",
        "y_train.shape\n",
        "binary_labels = np.where(y_train == 5, 1, -1)\n",
        "binary_labels_flat = binary_labels.flatten()\n",
        "binary_labels_flat"
      ],
      "metadata": {
        "colab": {
          "base_uri": "https://localhost:8080/"
        },
        "id": "Z6doa2azl0rX",
        "outputId": "fc42271b-e064-4182-febf-b1c58945c4a0"
      },
      "execution_count": null,
      "outputs": [
        {
          "output_type": "execute_result",
          "data": {
            "text/plain": [
              "array([ 1,  1,  1, ..., -1, -1, -1])"
            ]
          },
          "metadata": {},
          "execution_count": 15
        }
      ]
    },
    {
      "cell_type": "code",
      "source": [
        "# and this is how our labels used to be like:\n",
        "y_train"
      ],
      "metadata": {
        "colab": {
          "base_uri": "https://localhost:8080/",
          "height": 424
        },
        "id": "1Bgjvf6vmnMd",
        "outputId": "a9bdf4af-58ef-4f64-d8ad-14c3e6bbaf75"
      },
      "execution_count": null,
      "outputs": [
        {
          "output_type": "execute_result",
          "data": {
            "text/plain": [
              "      0\n",
              "0     5\n",
              "1     5\n",
              "2     5\n",
              "3     5\n",
              "4     5\n",
              "...  ..\n",
              "7347  2\n",
              "7348  2\n",
              "7349  2\n",
              "7350  2\n",
              "7351  2\n",
              "\n",
              "[7352 rows x 1 columns]"
            ],
            "text/html": [
              "\n",
              "  <div id=\"df-8203b709-0286-4f12-88c0-bb00785c00e1\" class=\"colab-df-container\">\n",
              "    <div>\n",
              "<style scoped>\n",
              "    .dataframe tbody tr th:only-of-type {\n",
              "        vertical-align: middle;\n",
              "    }\n",
              "\n",
              "    .dataframe tbody tr th {\n",
              "        vertical-align: top;\n",
              "    }\n",
              "\n",
              "    .dataframe thead th {\n",
              "        text-align: right;\n",
              "    }\n",
              "</style>\n",
              "<table border=\"1\" class=\"dataframe\">\n",
              "  <thead>\n",
              "    <tr style=\"text-align: right;\">\n",
              "      <th></th>\n",
              "      <th>0</th>\n",
              "    </tr>\n",
              "  </thead>\n",
              "  <tbody>\n",
              "    <tr>\n",
              "      <th>0</th>\n",
              "      <td>5</td>\n",
              "    </tr>\n",
              "    <tr>\n",
              "      <th>1</th>\n",
              "      <td>5</td>\n",
              "    </tr>\n",
              "    <tr>\n",
              "      <th>2</th>\n",
              "      <td>5</td>\n",
              "    </tr>\n",
              "    <tr>\n",
              "      <th>3</th>\n",
              "      <td>5</td>\n",
              "    </tr>\n",
              "    <tr>\n",
              "      <th>4</th>\n",
              "      <td>5</td>\n",
              "    </tr>\n",
              "    <tr>\n",
              "      <th>...</th>\n",
              "      <td>...</td>\n",
              "    </tr>\n",
              "    <tr>\n",
              "      <th>7347</th>\n",
              "      <td>2</td>\n",
              "    </tr>\n",
              "    <tr>\n",
              "      <th>7348</th>\n",
              "      <td>2</td>\n",
              "    </tr>\n",
              "    <tr>\n",
              "      <th>7349</th>\n",
              "      <td>2</td>\n",
              "    </tr>\n",
              "    <tr>\n",
              "      <th>7350</th>\n",
              "      <td>2</td>\n",
              "    </tr>\n",
              "    <tr>\n",
              "      <th>7351</th>\n",
              "      <td>2</td>\n",
              "    </tr>\n",
              "  </tbody>\n",
              "</table>\n",
              "<p>7352 rows × 1 columns</p>\n",
              "</div>\n",
              "    <div class=\"colab-df-buttons\">\n",
              "\n",
              "  <div class=\"colab-df-container\">\n",
              "    <button class=\"colab-df-convert\" onclick=\"convertToInteractive('df-8203b709-0286-4f12-88c0-bb00785c00e1')\"\n",
              "            title=\"Convert this dataframe to an interactive table.\"\n",
              "            style=\"display:none;\">\n",
              "\n",
              "  <svg xmlns=\"http://www.w3.org/2000/svg\" height=\"24px\" viewBox=\"0 -960 960 960\">\n",
              "    <path d=\"M120-120v-720h720v720H120Zm60-500h600v-160H180v160Zm220 220h160v-160H400v160Zm0 220h160v-160H400v160ZM180-400h160v-160H180v160Zm440 0h160v-160H620v160ZM180-180h160v-160H180v160Zm440 0h160v-160H620v160Z\"/>\n",
              "  </svg>\n",
              "    </button>\n",
              "\n",
              "  <style>\n",
              "    .colab-df-container {\n",
              "      display:flex;\n",
              "      gap: 12px;\n",
              "    }\n",
              "\n",
              "    .colab-df-convert {\n",
              "      background-color: #E8F0FE;\n",
              "      border: none;\n",
              "      border-radius: 50%;\n",
              "      cursor: pointer;\n",
              "      display: none;\n",
              "      fill: #1967D2;\n",
              "      height: 32px;\n",
              "      padding: 0 0 0 0;\n",
              "      width: 32px;\n",
              "    }\n",
              "\n",
              "    .colab-df-convert:hover {\n",
              "      background-color: #E2EBFA;\n",
              "      box-shadow: 0px 1px 2px rgba(60, 64, 67, 0.3), 0px 1px 3px 1px rgba(60, 64, 67, 0.15);\n",
              "      fill: #174EA6;\n",
              "    }\n",
              "\n",
              "    .colab-df-buttons div {\n",
              "      margin-bottom: 4px;\n",
              "    }\n",
              "\n",
              "    [theme=dark] .colab-df-convert {\n",
              "      background-color: #3B4455;\n",
              "      fill: #D2E3FC;\n",
              "    }\n",
              "\n",
              "    [theme=dark] .colab-df-convert:hover {\n",
              "      background-color: #434B5C;\n",
              "      box-shadow: 0px 1px 3px 1px rgba(0, 0, 0, 0.15);\n",
              "      filter: drop-shadow(0px 1px 2px rgba(0, 0, 0, 0.3));\n",
              "      fill: #FFFFFF;\n",
              "    }\n",
              "  </style>\n",
              "\n",
              "    <script>\n",
              "      const buttonEl =\n",
              "        document.querySelector('#df-8203b709-0286-4f12-88c0-bb00785c00e1 button.colab-df-convert');\n",
              "      buttonEl.style.display =\n",
              "        google.colab.kernel.accessAllowed ? 'block' : 'none';\n",
              "\n",
              "      async function convertToInteractive(key) {\n",
              "        const element = document.querySelector('#df-8203b709-0286-4f12-88c0-bb00785c00e1');\n",
              "        const dataTable =\n",
              "          await google.colab.kernel.invokeFunction('convertToInteractive',\n",
              "                                                    [key], {});\n",
              "        if (!dataTable) return;\n",
              "\n",
              "        const docLinkHtml = 'Like what you see? Visit the ' +\n",
              "          '<a target=\"_blank\" href=https://colab.research.google.com/notebooks/data_table.ipynb>data table notebook</a>'\n",
              "          + ' to learn more about interactive tables.';\n",
              "        element.innerHTML = '';\n",
              "        dataTable['output_type'] = 'display_data';\n",
              "        await google.colab.output.renderOutput(dataTable, element);\n",
              "        const docLink = document.createElement('div');\n",
              "        docLink.innerHTML = docLinkHtml;\n",
              "        element.appendChild(docLink);\n",
              "      }\n",
              "    </script>\n",
              "  </div>\n",
              "\n",
              "\n",
              "<div id=\"df-ecc8f1f0-8dcd-491b-9c70-9ef18a706d92\">\n",
              "  <button class=\"colab-df-quickchart\" onclick=\"quickchart('df-ecc8f1f0-8dcd-491b-9c70-9ef18a706d92')\"\n",
              "            title=\"Suggest charts\"\n",
              "            style=\"display:none;\">\n",
              "\n",
              "<svg xmlns=\"http://www.w3.org/2000/svg\" height=\"24px\"viewBox=\"0 0 24 24\"\n",
              "     width=\"24px\">\n",
              "    <g>\n",
              "        <path d=\"M19 3H5c-1.1 0-2 .9-2 2v14c0 1.1.9 2 2 2h14c1.1 0 2-.9 2-2V5c0-1.1-.9-2-2-2zM9 17H7v-7h2v7zm4 0h-2V7h2v10zm4 0h-2v-4h2v4z\"/>\n",
              "    </g>\n",
              "</svg>\n",
              "  </button>\n",
              "\n",
              "<style>\n",
              "  .colab-df-quickchart {\n",
              "      --bg-color: #E8F0FE;\n",
              "      --fill-color: #1967D2;\n",
              "      --hover-bg-color: #E2EBFA;\n",
              "      --hover-fill-color: #174EA6;\n",
              "      --disabled-fill-color: #AAA;\n",
              "      --disabled-bg-color: #DDD;\n",
              "  }\n",
              "\n",
              "  [theme=dark] .colab-df-quickchart {\n",
              "      --bg-color: #3B4455;\n",
              "      --fill-color: #D2E3FC;\n",
              "      --hover-bg-color: #434B5C;\n",
              "      --hover-fill-color: #FFFFFF;\n",
              "      --disabled-bg-color: #3B4455;\n",
              "      --disabled-fill-color: #666;\n",
              "  }\n",
              "\n",
              "  .colab-df-quickchart {\n",
              "    background-color: var(--bg-color);\n",
              "    border: none;\n",
              "    border-radius: 50%;\n",
              "    cursor: pointer;\n",
              "    display: none;\n",
              "    fill: var(--fill-color);\n",
              "    height: 32px;\n",
              "    padding: 0;\n",
              "    width: 32px;\n",
              "  }\n",
              "\n",
              "  .colab-df-quickchart:hover {\n",
              "    background-color: var(--hover-bg-color);\n",
              "    box-shadow: 0 1px 2px rgba(60, 64, 67, 0.3), 0 1px 3px 1px rgba(60, 64, 67, 0.15);\n",
              "    fill: var(--button-hover-fill-color);\n",
              "  }\n",
              "\n",
              "  .colab-df-quickchart-complete:disabled,\n",
              "  .colab-df-quickchart-complete:disabled:hover {\n",
              "    background-color: var(--disabled-bg-color);\n",
              "    fill: var(--disabled-fill-color);\n",
              "    box-shadow: none;\n",
              "  }\n",
              "\n",
              "  .colab-df-spinner {\n",
              "    border: 2px solid var(--fill-color);\n",
              "    border-color: transparent;\n",
              "    border-bottom-color: var(--fill-color);\n",
              "    animation:\n",
              "      spin 1s steps(1) infinite;\n",
              "  }\n",
              "\n",
              "  @keyframes spin {\n",
              "    0% {\n",
              "      border-color: transparent;\n",
              "      border-bottom-color: var(--fill-color);\n",
              "      border-left-color: var(--fill-color);\n",
              "    }\n",
              "    20% {\n",
              "      border-color: transparent;\n",
              "      border-left-color: var(--fill-color);\n",
              "      border-top-color: var(--fill-color);\n",
              "    }\n",
              "    30% {\n",
              "      border-color: transparent;\n",
              "      border-left-color: var(--fill-color);\n",
              "      border-top-color: var(--fill-color);\n",
              "      border-right-color: var(--fill-color);\n",
              "    }\n",
              "    40% {\n",
              "      border-color: transparent;\n",
              "      border-right-color: var(--fill-color);\n",
              "      border-top-color: var(--fill-color);\n",
              "    }\n",
              "    60% {\n",
              "      border-color: transparent;\n",
              "      border-right-color: var(--fill-color);\n",
              "    }\n",
              "    80% {\n",
              "      border-color: transparent;\n",
              "      border-right-color: var(--fill-color);\n",
              "      border-bottom-color: var(--fill-color);\n",
              "    }\n",
              "    90% {\n",
              "      border-color: transparent;\n",
              "      border-bottom-color: var(--fill-color);\n",
              "    }\n",
              "  }\n",
              "</style>\n",
              "\n",
              "  <script>\n",
              "    async function quickchart(key) {\n",
              "      const quickchartButtonEl =\n",
              "        document.querySelector('#' + key + ' button');\n",
              "      quickchartButtonEl.disabled = true;  // To prevent multiple clicks.\n",
              "      quickchartButtonEl.classList.add('colab-df-spinner');\n",
              "      try {\n",
              "        const charts = await google.colab.kernel.invokeFunction(\n",
              "            'suggestCharts', [key], {});\n",
              "      } catch (error) {\n",
              "        console.error('Error during call to suggestCharts:', error);\n",
              "      }\n",
              "      quickchartButtonEl.classList.remove('colab-df-spinner');\n",
              "      quickchartButtonEl.classList.add('colab-df-quickchart-complete');\n",
              "    }\n",
              "    (() => {\n",
              "      let quickchartButtonEl =\n",
              "        document.querySelector('#df-ecc8f1f0-8dcd-491b-9c70-9ef18a706d92 button');\n",
              "      quickchartButtonEl.style.display =\n",
              "        google.colab.kernel.accessAllowed ? 'block' : 'none';\n",
              "    })();\n",
              "  </script>\n",
              "</div>\n",
              "\n",
              "  <div id=\"id_61a57425-2baf-4fe5-a9a5-8d1310ac6a62\">\n",
              "    <style>\n",
              "      .colab-df-generate {\n",
              "        background-color: #E8F0FE;\n",
              "        border: none;\n",
              "        border-radius: 50%;\n",
              "        cursor: pointer;\n",
              "        display: none;\n",
              "        fill: #1967D2;\n",
              "        height: 32px;\n",
              "        padding: 0 0 0 0;\n",
              "        width: 32px;\n",
              "      }\n",
              "\n",
              "      .colab-df-generate:hover {\n",
              "        background-color: #E2EBFA;\n",
              "        box-shadow: 0px 1px 2px rgba(60, 64, 67, 0.3), 0px 1px 3px 1px rgba(60, 64, 67, 0.15);\n",
              "        fill: #174EA6;\n",
              "      }\n",
              "\n",
              "      [theme=dark] .colab-df-generate {\n",
              "        background-color: #3B4455;\n",
              "        fill: #D2E3FC;\n",
              "      }\n",
              "\n",
              "      [theme=dark] .colab-df-generate:hover {\n",
              "        background-color: #434B5C;\n",
              "        box-shadow: 0px 1px 3px 1px rgba(0, 0, 0, 0.15);\n",
              "        filter: drop-shadow(0px 1px 2px rgba(0, 0, 0, 0.3));\n",
              "        fill: #FFFFFF;\n",
              "      }\n",
              "    </style>\n",
              "    <button class=\"colab-df-generate\" onclick=\"generateWithVariable('y_train')\"\n",
              "            title=\"Generate code using this dataframe.\"\n",
              "            style=\"display:none;\">\n",
              "\n",
              "  <svg xmlns=\"http://www.w3.org/2000/svg\" height=\"24px\"viewBox=\"0 0 24 24\"\n",
              "       width=\"24px\">\n",
              "    <path d=\"M7,19H8.4L18.45,9,17,7.55,7,17.6ZM5,21V16.75L18.45,3.32a2,2,0,0,1,2.83,0l1.4,1.43a1.91,1.91,0,0,1,.58,1.4,1.91,1.91,0,0,1-.58,1.4L9.25,21ZM18.45,9,17,7.55Zm-12,3A5.31,5.31,0,0,0,4.9,8.1,5.31,5.31,0,0,0,1,6.5,5.31,5.31,0,0,0,4.9,4.9,5.31,5.31,0,0,0,6.5,1,5.31,5.31,0,0,0,8.1,4.9,5.31,5.31,0,0,0,12,6.5,5.46,5.46,0,0,0,6.5,12Z\"/>\n",
              "  </svg>\n",
              "    </button>\n",
              "    <script>\n",
              "      (() => {\n",
              "      const buttonEl =\n",
              "        document.querySelector('#id_61a57425-2baf-4fe5-a9a5-8d1310ac6a62 button.colab-df-generate');\n",
              "      buttonEl.style.display =\n",
              "        google.colab.kernel.accessAllowed ? 'block' : 'none';\n",
              "\n",
              "      buttonEl.onclick = () => {\n",
              "        google.colab.notebook.generateWithVariable('y_train');\n",
              "      }\n",
              "      })();\n",
              "    </script>\n",
              "  </div>\n",
              "\n",
              "    </div>\n",
              "  </div>\n"
            ],
            "application/vnd.google.colaboratory.intrinsic+json": {
              "type": "dataframe",
              "variable_name": "y_train",
              "summary": "{\n  \"name\": \"y_train\",\n  \"rows\": 7352,\n  \"fields\": [\n    {\n      \"column\": 0,\n      \"properties\": {\n        \"dtype\": \"number\",\n        \"std\": 1,\n        \"min\": 1,\n        \"max\": 6,\n        \"num_unique_values\": 6,\n        \"samples\": [\n          5,\n          4,\n          2\n        ],\n        \"semantic_type\": \"\",\n        \"description\": \"\"\n      }\n    }\n  ]\n}"
            }
          },
          "metadata": {},
          "execution_count": 17
        }
      ]
    },
    {
      "cell_type": "code",
      "source": [
        "# this is probably the code that took me most amount of time, comparing results,\n",
        "# it should not be complicated though, here is the code\n",
        "# convert X_train and y_train to NumPy arrays\n",
        "X_train_array = X_train.to_numpy()\n",
        "y_train_array = y_train.to_numpy()\n",
        "\n",
        "# train the multiclass perceptron\n",
        "weights, biases = multiclass_perceptron_training(X_train_array, y_train_array, num_classes=6, max_pass=500)\n",
        "\n",
        "# make predictions on the training set\n",
        "train_predictions = multiclass_perceptron_predict(X_train_array, weights, biases)\n",
        "train_errors = np.sum(train_predictions != y_train_array)\n",
        "print(f'Training Errors: {train_errors}')\n",
        "\n",
        "# make predictions on the test set\n",
        "X_test_array = X_test.to_numpy()\n",
        "y_test_array = y_test.to_numpy()\n",
        "test_predictions = multiclass_perceptron_predict(X_test_array, weights, biases)\n",
        "test_errors = np.sum(test_predictions != y_test_array) # basic, just sum the errors and see\n",
        "print(f'Test Errors: {test_errors}')"
      ],
      "metadata": {
        "colab": {
          "base_uri": "https://localhost:8080/"
        },
        "id": "qPldNgnWm4sm",
        "outputId": "87890207-e2e1-414e-ee34-b839e6c0e567"
      },
      "execution_count": null,
      "outputs": [
        {
          "output_type": "stream",
          "name": "stdout",
          "text": [
            "Training Errors: 46754727\n",
            "Test Errors: 7486990\n"
          ]
        }
      ]
    },
    {
      "cell_type": "code",
      "source": [
        "#We will calculate the accuracy of the perceptron, or the plane we just found:\n",
        "# Calculate the percentage of True values\n",
        "incorrect_predictions = (train_predictions != y_train_array)\n",
        "total_elements = incorrect_predictions.size\n",
        "true_elements = np.sum(incorrect_predictions)\n",
        "percentage_true = (true_elements / total_elements) * 100\n",
        "\n",
        "percentage_true"
      ],
      "metadata": {
        "colab": {
          "base_uri": "https://localhost:8080/"
        },
        "id": "nDSSvOwjnL7X",
        "outputId": "664144d2-6ebd-4a62-9a41-c1daaffafe90"
      },
      "execution_count": null,
      "outputs": [
        {
          "output_type": "execute_result",
          "data": {
            "text/plain": [
              "86.4996855614929"
            ]
          },
          "metadata": {},
          "execution_count": 21
        }
      ]
    },
    {
      "cell_type": "markdown",
      "source": [
        "This is not that bad, given the number of epoch and compute we did;"
      ],
      "metadata": {
        "id": "sejOuM6loDOC"
      }
    },
    {
      "cell_type": "markdown",
      "source": [
        "One vs One technnique:"
      ],
      "metadata": {
        "id": "zj-m6fkIoMH4"
      }
    },
    {
      "cell_type": "markdown",
      "source": [
        "Intuitive: One vs One, is comparing them and create weights for all; so the total matrix W, won't be a vectpr d anymore (or d+1 if you applying padding); but we will have (c 2) vectors w since we are applying it one by one; W in (c 2) x d"
      ],
      "metadata": {
        "id": "do-sgw1voWsq"
      }
    },
    {
      "cell_type": "code",
      "source": [
        "#import additional libraries to take combinations etc..\n",
        "from itertools import combinations\n",
        "from collections import Counter"
      ],
      "metadata": {
        "id": "EZ-VQ73ynur4"
      },
      "execution_count": null,
      "outputs": []
    },
    {
      "cell_type": "code",
      "source": [
        "def ovo_perceptron_training(X, y, num_classes, max_pass):\n",
        "    classifiers = {}\n",
        "    for class_pair in combinations(range(num_classes), 2):\n",
        "        class_1, class_2 = class_pair\n",
        "        # filter data for the two classes\n",
        "        filter_mask = (y == class_1) | (y == class_2)\n",
        "        X_pair = X[filter_mask.flatten(), :]\n",
        "        y_pair = y[filter_mask]\n",
        "        # create binary labels\n",
        "        y_binary = np.where(y_pair == class_1, 1, -1)\n",
        "        # train the perceptron\n",
        "        w, b = perceptron(X_pair, y_binary, max_pass)\n",
        "        classifiers[class_pair] = (w, b)\n",
        "    return classifiers\n",
        "\n",
        "def ovo_perceptron_predict(X, classifiers, num_classes):\n",
        "    votes = np.zeros((X.shape[0], num_classes))\n",
        "    for (class_1, class_2), (w, b) in classifiers.items():\n",
        "        predictions = np.sign(np.dot(X, w) + b)\n",
        "        for i, pred in enumerate(predictions):\n",
        "            if pred == 1:\n",
        "                votes[i, class_1] += 1\n",
        "            else:\n",
        "                votes[i, class_2] += 1\n",
        "    # final prediction is the class with the most votes\n",
        "    final_predictions = np.argmax(votes, axis=1)\n",
        "    return final_predictions\n",
        "\n"
      ],
      "metadata": {
        "id": "aclj7FXPowwt"
      },
      "execution_count": null,
      "outputs": []
    },
    {
      "cell_type": "markdown",
      "source": [
        "The technique here is simlar to one vs all, but inttead of assume all class one; we will just do one class at a time; increase weights; then apply for each one weight and do a voting system; to compare highest rated and choose; for example if data xi belonged to class 2, maybe comaring class 2 with class 1 (we chose class 2); CLASS 2 wihth all classes we will choose class 2, but comparing class 6 with all other classes, the number of times we choose 6 will be lesser thant true class 2"
      ],
      "metadata": {
        "id": "Qat90PF8o17Y"
      }
    },
    {
      "cell_type": "code",
      "source": [
        "X_train_array = X_train.to_numpy()\n",
        "y_train_array = y_train.to_numpy()\n",
        "X_test_array = X_test.to_numpy()\n",
        "y_test_array = y_test.to_numpy()\n",
        "\n",
        "classifiers = ovo_perceptron_training(X_train_array, y_train_array, num_classes=6, max_pass=500)\n",
        "predictions = ovo_perceptron_predict(X_train_array, classifiers, num_classes=6)"
      ],
      "metadata": {
        "id": "FSxb9VUmo1CF"
      },
      "execution_count": null,
      "outputs": []
    },
    {
      "cell_type": "code",
      "source": [
        "incorrect_predictions = (predictions != y_train_array)\n",
        "# Calculate the percentage of True values\n",
        "total_elements = incorrect_predictions.size\n",
        "true_elements = np.sum(incorrect_predictions)\n",
        "percentage_true = (true_elements / total_elements) * 100\n",
        "\n",
        "percentage_true"
      ],
      "metadata": {
        "colab": {
          "base_uri": "https://localhost:8080/"
        },
        "id": "im8uFUdbpbto",
        "outputId": "581b0412-c96b-4419-ed9d-e6084bded408"
      },
      "execution_count": null,
      "outputs": [
        {
          "output_type": "execute_result",
          "data": {
            "text/plain": [
              "83.38951390130494"
            ]
          },
          "metadata": {},
          "execution_count": 25
        }
      ]
    },
    {
      "cell_type": "markdown",
      "source": [
        "83.3 % is not bad"
      ],
      "metadata": {
        "id": "TPYGzxhVpuJH"
      }
    },
    {
      "cell_type": "markdown",
      "source": [
        "As you can see, the main goal was to find optimal weights and biases to separate the best dataset possible; other things like voting and scores are tweaks. In fact, you will see a lot of tweaks during your ML journey, don't be surprised by that. We have seen how weights separate, but you may ask how weights separation works or why this algorithm works; we will see this in the next chapter on SVMs.\n"
      ],
      "metadata": {
        "id": "4XEmQli5p-vP"
      }
    },
    {
      "cell_type": "markdown",
      "source": [
        "Additional Material for enthusiatic readers"
      ],
      "metadata": {
        "id": "6Zdv_QidqYc-"
      }
    },
    {
      "cell_type": "markdown",
      "source": [
        "If you're interested; what we have seen so far are variation from voting to scoring, but the most common way to do is create a MCP, which is a multi class perceptron:\n",
        "this is the algorithm of it;\n",
        "![mlp](https://drive.google.com/file/d/1Vc-yue-JIJOq6O7coPCJrFuWJr0c-b8r/view?usp=sharing)\n",
        "\n",
        "\n",
        "\n",
        "MCP are used in Transformers (in the final layers of LLMs to predict the next token), and in many other applications"
      ],
      "metadata": {
        "id": "P008Kc7Fq1iO"
      }
    },
    {
      "cell_type": "code",
      "source": [
        "import numpy as np\n",
        "\n",
        "def multiclass_perceptron(X, y, learning_rate, max_passes):\n",
        "    \"\"\"\n",
        "    This function implements a multi-class perceptron algorithm for classification.\n",
        "\n",
        "    Args:\n",
        "        X: A numpy array of shape (n_samples, n_features) containing the training data.\n",
        "        y: A numpy array of shape (n_samples,) containing the labels (1-6 for activities).\n",
        "        learning_rate: The learning rate for weight updates.\n",
        "        max_passes: the maximum number of passes through the training data.\n",
        "\n",
        "    Returns:\n",
        "        A numpy array of shape (n_classes, n_features) containing the learned weights.\n",
        "    \"\"\"\n",
        "    n_samples, n_features = X.shape\n",
        "    n_classes = len(np.unique(y))\n",
        "\n",
        "    weights = np.zeros((n_classes, n_features))\n",
        "\n",
        "    y_adj = y - 1 # adjust labels to start from 0 (the index started at 1, it must start at 0)\n",
        "    for _ in range(max_passes):\n",
        "        for i in range(n_samples):\n",
        "            # calculate predicted class\n",
        "            predicted_class = np.argmax(np.dot(weights, X[i]))\n",
        "\n",
        "            # logic here\n",
        "\n",
        "            # update weights only for misclassification\n",
        "            if predicted_class != y_adj[i]:\n",
        "                weights[y_adj[i]] += learning_rate * X[i]\n",
        "                weights[predicted_class] -= learning_rate * X[i]\n",
        "\n",
        "    return weights\n",
        "\n",
        "def predict(X, weights):\n",
        "    scores = np.dot(X, weights.T)\n",
        "    predictions = np.argmax(scores, axis=1)\n",
        "    return predictions + 1  # adjust predictions to original class labels"
      ],
      "metadata": {
        "id": "x5batZ7TptVq"
      },
      "execution_count": null,
      "outputs": []
    },
    {
      "cell_type": "code",
      "source": [
        "def multiclass(X, y, num_classes, num_epochs):\n",
        "    # Initialize weight vectors\n",
        "    W = np.zeros((num_classes, X.shape[1]))\n",
        "\n",
        "    for epoch in range(num_epochs):\n",
        "        for i in range(len(X)):\n",
        "            xi = X[i]\n",
        "            yi = y[i] - 1  # Adjusting for zero-indexed labels\n",
        "\n",
        "            # Predict the class\n",
        "            scores = np.dot(W, xi)\n",
        "            y_hat = np.argmax(scores)\n",
        "            # Update weights if prediction is incorrect\n",
        "            if y_hat != yi:\n",
        "                W[yi] = W[yi] + xi\n",
        "                W[y_hat] = W[y_hat] - xi\n",
        "\n",
        "\n",
        "    return W\n",
        "\n",
        "# Example usage:\n",
        "# X is the input matrix (n_samples x n_features)\n",
        "# y is the target vector (n_samples,)\n",
        "# num_classes is the number of distinct classes\n",
        "# num_epochs is the number of iterations over the training set\n",
        "W = multiclass(X_train_array, y_train_array, num_classes=6, num_epochs=500)\n",
        "y_train_pred = np.argmax(np.dot(X_train, W.T), axis=1)"
      ],
      "metadata": {
        "id": "BvCuLHedr8io"
      },
      "execution_count": null,
      "outputs": []
    },
    {
      "cell_type": "code",
      "source": [
        "print('Shape of W:', W.shape)"
      ],
      "metadata": {
        "colab": {
          "base_uri": "https://localhost:8080/"
        },
        "id": "Xht9cjmUr969",
        "outputId": "30adf0e5-1a5a-41ee-8b9c-b6d7125cc4e0"
      },
      "execution_count": null,
      "outputs": [
        {
          "output_type": "stream",
          "name": "stdout",
          "text": [
            "Shape of W: (6, 561)\n"
          ]
        }
      ]
    },
    {
      "cell_type": "code",
      "source": [
        "# as you can see we have (c 2) weights for 6 features"
      ],
      "metadata": {
        "id": "4j9bCkytsWcm"
      },
      "execution_count": null,
      "outputs": []
    },
    {
      "cell_type": "code",
      "source": [
        "# use the trained weights for prediction on new data\n",
        "def predict(X, weights):\n",
        "  scores = np.dot(X, weights.T)\n",
        "  predicted_class = np.argmax(scores, axis=1) + 1\n",
        "  return predicted_class + 1\n",
        "\n",
        "# predict activity for a new data point x\n",
        "predicted_activity = predict(X_train_array, weights)"
      ],
      "metadata": {
        "id": "HpVuMdrXsbG1"
      },
      "execution_count": null,
      "outputs": []
    },
    {
      "cell_type": "code",
      "source": [
        "import matplotlib.pyplot as plt\n",
        "\n",
        "# function to apply the step function\n",
        "def step_fn(x):\n",
        "    return np.where(x >= 0, 1.0, 0.0).reshape(-1, 1)\n",
        "\n",
        "# function to calculate training errors\n",
        "def training_errors(epoch, errors, X_train, y_train, w):\n",
        "    n = X_train.shape[0]\n",
        "    for i in range(n):\n",
        "        xi = X_train[i].reshape(-1, 1)\n",
        "        v = np.matmul(w, xi)\n",
        "        prediction = v.argmax(axis=0)\n",
        "        actual = y_train[i] - 1  # Adjust for zero-indexed labels\n",
        "        if prediction != actual:\n",
        "            errors[epoch] += 1\n",
        "    return errors[epoch]\n",
        "\n",
        "# function to update weights\n",
        "def update_weight(w, X_train, y_train, learning_rate):\n",
        "    n = X_train.shape[0]\n",
        "    for i in range(n):\n",
        "        xi = X_train[i].reshape(-1, 1)\n",
        "        y = step_fn(np.matmul(w, xi))\n",
        "        label = np.zeros((6, 1))\n",
        "        label[y_train[i] - 1] = 1  # Adjust for zero-indexed labels\n",
        "        difference = label - y\n",
        "        xit = xi.T\n",
        "        update = learning_rate * np.matmul(difference, xit)\n",
        "        w += update\n",
        "\n",
        "# function to train the perceptron\n",
        "def learning_weights(X_train, y_train, threshold, learning_rate):\n",
        "    n, d = X_train.shape\n",
        "    w = np.zeros((6, d))\n",
        "    errors = []\n",
        "    epoch = 0\n",
        "\n",
        "    while epoch < 100:\n",
        "        errors.append(0)\n",
        "        errors[epoch] = training_errors(epoch, errors, X_train, y_train, w)\n",
        "        update_weight(w, X_train, y_train, learning_rate)\n",
        "        epoch += 1\n",
        "        if errors[epoch-1] / n <= threshold:\n",
        "            break\n",
        "\n",
        "    return w, errors\n",
        "\n",
        "# function to plot errors vs epochs\n",
        "def plot_graph(errors):\n",
        "    fig, ax = plt.subplots(figsize=(10, 10))\n",
        "    plt.plot(range(len(errors)), errors, c='green')\n",
        "    plt.ylabel('Number of Misclassifications')\n",
        "    plt.xlabel('Number of Epochs')\n",
        "    plt.title('Errors vs Epochs')\n",
        "    plt.show()\n",
        "\n",
        "# function to find test errors\n",
        "def find_errors(X_test, y_test, w):\n",
        "    test_errors = 0\n",
        "    for i in range(len(X_test)):\n",
        "        xi = X_test[i].reshape(-1, 1)\n",
        "        v = np.matmul(w, xi)\n",
        "        prediction = v.argmax(axis=0)\n",
        "        actual = y_test[i] - 1  # Adjust for zero-indexed labels\n",
        "        if prediction != actual:\n",
        "            test_errors += 1\n",
        "    print(\"Number of errors in test data:\", test_errors)\n",
        "    print(\"Percentage of test errors:\", test_errors * 100 / len(X_test))\n"
      ],
      "metadata": {
        "id": "Jqeok4Qvsf2u"
      },
      "execution_count": null,
      "outputs": []
    },
    {
      "cell_type": "code",
      "source": [
        "# Example usage:\n",
        "# Assuming X_train is the training data matrix (n_samples x n_features)\n",
        "# y_train is the training labels vector (n_samples,) with class labels from 1 to 6\n",
        "# X_test is the test data matrix\n",
        "# y_test is the test labels vector\n",
        "\n",
        "n_samples = 1000\n",
        "n_features = 784  # example for 28x28 images flattened\n",
        "# parameters\n",
        "threshold = 0.01\n",
        "learning_rate = 0.1\n",
        "\n",
        "# train the perceptron\n",
        "w, errors = learning_weights(X_train_array, y_train_array, threshold, learning_rate)\n",
        "\n",
        "# plot the training errors\n",
        "plot_graph(errors)\n",
        "\n",
        "# evaluate on test set\n",
        "find_errors(X_test, y_test, w)"
      ],
      "metadata": {
        "colab": {
          "base_uri": "https://localhost:8080/",
          "height": 1000
        },
        "id": "T2AhzQtQsloi",
        "outputId": "2277fa1c-f857-4b8e-e0cb-3bff9367e8cf"
      },
      "execution_count": null,
      "outputs": [
        {
          "output_type": "display_data",
          "data": {
            "text/plain": [
              "<Figure size 1000x1000 with 1 Axes>"
            ],
            "image/png": "[encoded data removed]"
          },
          "metadata": {}
        },
        {
          "output_type": "error",
          "ename": "AttributeError",
          "evalue": "'Series' object has no attribute 'reshape'",
          "traceback": [
            "\u001b[0;31m---------------------------------------------------------------------------\u001b[0m",
            "\u001b[0;31mAttributeError\u001b[0m                            Traceback (most recent call last)",
            "\u001b[0;32m<ipython-input-32-5f4895214cae>\u001b[0m in \u001b[0;36m<cell line: 20>\u001b[0;34m()\u001b[0m\n\u001b[1;32m     18\u001b[0m \u001b[0;34m\u001b[0m\u001b[0m\n\u001b[1;32m     19\u001b[0m \u001b[0;31m# Evaluate on test set\u001b[0m\u001b[0;34m\u001b[0m\u001b[0;34m\u001b[0m\u001b[0m\n\u001b[0;32m---> 20\u001b[0;31m \u001b[0mfind_errors\u001b[0m\u001b[0;34m(\u001b[0m\u001b[0mX_test\u001b[0m\u001b[0;34m,\u001b[0m \u001b[0my_test\u001b[0m\u001b[0;34m,\u001b[0m \u001b[0mw\u001b[0m\u001b[0;34m)\u001b[0m\u001b[0;34m\u001b[0m\u001b[0;34m\u001b[0m\u001b[0m\n\u001b[0m",
            "\u001b[0;32m<ipython-input-31-0a676a7698a1>\u001b[0m in \u001b[0;36mfind_errors\u001b[0;34m(X_test, y_test, w)\u001b[0m\n\u001b[1;32m     60\u001b[0m     \u001b[0mtest_errors\u001b[0m \u001b[0;34m=\u001b[0m \u001b[0;36m0\u001b[0m\u001b[0;34m\u001b[0m\u001b[0;34m\u001b[0m\u001b[0m\n\u001b[1;32m     61\u001b[0m     \u001b[0;32mfor\u001b[0m \u001b[0mi\u001b[0m \u001b[0;32min\u001b[0m \u001b[0mrange\u001b[0m\u001b[0;34m(\u001b[0m\u001b[0mlen\u001b[0m\u001b[0;34m(\u001b[0m\u001b[0mX_test\u001b[0m\u001b[0;34m)\u001b[0m\u001b[0;34m)\u001b[0m\u001b[0;34m:\u001b[0m\u001b[0;34m\u001b[0m\u001b[0;34m\u001b[0m\u001b[0m\n\u001b[0;32m---> 62\u001b[0;31m         \u001b[0mxi\u001b[0m \u001b[0;34m=\u001b[0m \u001b[0mX_test\u001b[0m\u001b[0;34m[\u001b[0m\u001b[0mi\u001b[0m\u001b[0;34m]\u001b[0m\u001b[0;34m.\u001b[0m\u001b[0mreshape\u001b[0m\u001b[0;34m(\u001b[0m\u001b[0;34m-\u001b[0m\u001b[0;36m1\u001b[0m\u001b[0;34m,\u001b[0m \u001b[0;36m1\u001b[0m\u001b[0;34m)\u001b[0m\u001b[0;34m\u001b[0m\u001b[0;34m\u001b[0m\u001b[0m\n\u001b[0m\u001b[1;32m     63\u001b[0m         \u001b[0mv\u001b[0m \u001b[0;34m=\u001b[0m \u001b[0mnp\u001b[0m\u001b[0;34m.\u001b[0m\u001b[0mmatmul\u001b[0m\u001b[0;34m(\u001b[0m\u001b[0mw\u001b[0m\u001b[0;34m,\u001b[0m \u001b[0mxi\u001b[0m\u001b[0;34m)\u001b[0m\u001b[0;34m\u001b[0m\u001b[0;34m\u001b[0m\u001b[0m\n\u001b[1;32m     64\u001b[0m         \u001b[0mprediction\u001b[0m \u001b[0;34m=\u001b[0m \u001b[0mv\u001b[0m\u001b[0;34m.\u001b[0m\u001b[0margmax\u001b[0m\u001b[0;34m(\u001b[0m\u001b[0maxis\u001b[0m\u001b[0;34m=\u001b[0m\u001b[0;36m0\u001b[0m\u001b[0;34m)\u001b[0m\u001b[0;34m\u001b[0m\u001b[0;34m\u001b[0m\u001b[0m\n",
            "\u001b[0;32m/usr/local/lib/python3.10/dist-packages/pandas/core/generic.py\u001b[0m in \u001b[0;36m__getattr__\u001b[0;34m(self, name)\u001b[0m\n\u001b[1;32m   5987\u001b[0m         ):\n\u001b[1;32m   5988\u001b[0m             \u001b[0;32mreturn\u001b[0m \u001b[0mself\u001b[0m\u001b[0;34m[\u001b[0m\u001b[0mname\u001b[0m\u001b[0;34m]\u001b[0m\u001b[0;34m\u001b[0m\u001b[0;34m\u001b[0m\u001b[0m\n\u001b[0;32m-> 5989\u001b[0;31m         \u001b[0;32mreturn\u001b[0m \u001b[0mobject\u001b[0m\u001b[0;34m.\u001b[0m\u001b[0m__getattribute__\u001b[0m\u001b[0;34m(\u001b[0m\u001b[0mself\u001b[0m\u001b[0;34m,\u001b[0m \u001b[0mname\u001b[0m\u001b[0;34m)\u001b[0m\u001b[0;34m\u001b[0m\u001b[0;34m\u001b[0m\u001b[0m\n\u001b[0m\u001b[1;32m   5990\u001b[0m \u001b[0;34m\u001b[0m\u001b[0m\n\u001b[1;32m   5991\u001b[0m     \u001b[0;32mdef\u001b[0m \u001b[0m__setattr__\u001b[0m\u001b[0;34m(\u001b[0m\u001b[0mself\u001b[0m\u001b[0;34m,\u001b[0m \u001b[0mname\u001b[0m\u001b[0;34m:\u001b[0m \u001b[0mstr\u001b[0m\u001b[0;34m,\u001b[0m \u001b[0mvalue\u001b[0m\u001b[0;34m)\u001b[0m \u001b[0;34m->\u001b[0m \u001b[0;32mNone\u001b[0m\u001b[0;34m:\u001b[0m\u001b[0;34m\u001b[0m\u001b[0;34m\u001b[0m\u001b[0m\n",
            "\u001b[0;31mAttributeError\u001b[0m: 'Series' object has no attribute 'reshape'"
          ]
        }
      ]
    },
    {
      "cell_type": "code",
      "source": [],
      "metadata": {
        "id": "TtX-TyoTs1HF"
      },
      "execution_count": null,
      "outputs": []
    },
    {
      "cell_type": "code",
      "source": [
        "# Function to find test errors\n",
        "def find_errors(X_test, y_test, w):\n",
        "    test_errors = 0\n",
        "    for i in range(len(X_test)):\n",
        "        xi = X_test[i].reshape(-1, 1)\n",
        "        v = np.matmul(w, xi)\n",
        "        prediction = v.argmax(axis=0)\n",
        "        actual = y_test[i] - 1  # Adjust for zero-indexed labels\n",
        "        if prediction != actual:\n",
        "            test_errors += 1\n",
        "    print(\"Number of errors in test data:\", test_errors)\n",
        "    print(\"Percentage of test errors:\", test_errors * 100 / len(X_test))"
      ],
      "metadata": {
        "id": "XqVfa3-msn34"
      },
      "execution_count": null,
      "outputs": []
    },
    {
      "cell_type": "code",
      "source": [
        "\n",
        "# use the trained weights for prediction on new data\n",
        "def predict(X, weights):\n",
        "  scores = np.dot(X, weights.T)\n",
        "  predicted_class = np.argmax(scores, axis=1)\n",
        "  return predicted_class\n",
        "\n",
        "# predict activity for a new data point x\n",
        "predicted_activity = predict(X_train_array, w)\n",
        "# correct = predicted_activity == y_test_array\n",
        "# incorrect = predicted_activity != y_test_array\n",
        "# print('The correct sum', correct.sum())\n",
        "# print('The incorrect sum', incorrect.sum())"
      ],
      "metadata": {
        "id": "iMVznShFsxBH"
      },
      "execution_count": null,
      "outputs": []
    },
    {
      "cell_type": "code",
      "source": [
        "find_errors(X_test_array, y_test_array, W)"
      ],
      "metadata": {
        "colab": {
          "base_uri": "https://localhost:8080/"
        },
        "id": "ecwLQgicsxnJ",
        "outputId": "ede1cc1b-3d28-490a-d87f-2b9be054c2f6"
      },
      "execution_count": null,
      "outputs": [
        {
          "output_type": "stream",
          "name": "stdout",
          "text": [
            "Number of errors in test data: 141\n",
            "Percentage of test errors: 4.784526637258229\n"
          ]
        }
      ]
    },
    {
      "cell_type": "code",
      "source": [],
      "metadata": {
        "id": "gZvVpSSTs6ks"
      },
      "execution_count": null,
      "outputs": []
    }
  ]
}